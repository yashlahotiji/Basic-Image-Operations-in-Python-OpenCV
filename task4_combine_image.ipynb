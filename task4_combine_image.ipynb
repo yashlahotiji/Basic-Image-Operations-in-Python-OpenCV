{
 "cells": [
  {
   "cell_type": "code",
   "execution_count": null,
   "id": "2a0573b2",
   "metadata": {},
   "outputs": [],
   "source": [
    "import cv2\n",
    "img1 = cv2.imread('cat.jpg')\n",
    "img2 = cv2.imread('dog.jpg')\n",
    "#check shape of image as we want to concatenate them and it is better if they are of same size\n",
    "img1.shape\n",
    "img2.shape\n",
    "#resize image if they are not equal in size by Interpolation i.e altering an image by adding an extra part to it\n",
    "img3 = cv2.resize(img1 , (256,256) , interpolation = cv2.INTER_AREA)\n",
    "img4 = cv2.resize(img2 , (256,256) , interpolation = cv2.INTER_AREA)\n",
    "imgh = cv2.hconcat([img3, img4]) #horizontal concatenate\n",
    "imgv = cv2.vconcat([img3, img4]) #vertical concatenate\n",
    "cv2.imshow('Horizontal Combine', imgh)\n",
    "cv2.imshow('Vertical Combine', imgv)\n",
    "cv2.waitKey()"
   ]
  },
  {
   "cell_type": "code",
   "execution_count": null,
   "id": "02aef376",
   "metadata": {},
   "outputs": [],
   "source": []
  },
  {
   "cell_type": "code",
   "execution_count": null,
   "id": "078df3f7",
   "metadata": {},
   "outputs": [],
   "source": []
  }
 ],
 "metadata": {
  "kernelspec": {
   "display_name": "Python 3",
   "language": "python",
   "name": "python3"
  },
  "language_info": {
   "codemirror_mode": {
    "name": "ipython",
    "version": 3
   },
   "file_extension": ".py",
   "mimetype": "text/x-python",
   "name": "python",
   "nbconvert_exporter": "python",
   "pygments_lexer": "ipython3",
   "version": "3.8.8"
  }
 },
 "nbformat": 4,
 "nbformat_minor": 5
}
