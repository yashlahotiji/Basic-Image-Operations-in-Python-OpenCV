{
 "cells": [
  {
   "cell_type": "code",
   "execution_count": null,
   "id": "fcc3b100",
   "metadata": {},
   "outputs": [
    {
     "name": "stdout",
     "output_type": "stream",
     "text": [
      "image shape:  (700, 700, 3)\n"
     ]
    }
   ],
   "source": [
    "import cv2\n",
    "import numpy as np\n",
    "img = np.zeros([700,700,3],dtype=np.uint8)\n",
    "img.fill(0) #black background\n",
    "cv2.circle(img, (350,350) , 60 , (255,255,255) , -1) #white outside\n",
    "cv2.circle(img, (350,350) , 50 , (0,0,0) , -1) #black inside\n",
    "cv2.circle(img, (350,350) , 40 , (255,255,255) , -1) #white inside\n",
    "cv2.line(img , (350,360) , (320,380) , (0,0,0),10) #left diag\n",
    "cv2.line(img , (350,360) , (380,380) , (0,0,0),10) #right diag\n",
    "cv2.line(img , (350,310) , (350,390) , (0,0,0),10) #center line\n",
    "font = cv2.FONT_HERSHEY_SIMPLEX\n",
    "cv2.putText(img,'Peace',(170,500), font, 4,(255,255,255),2)\n",
    "cv2.imshow('Created Image', img)\n",
    "print(\"image shape: \", img.shape)\n",
    "cv2.waitKey(0)\n",
    "cv2.destroyAllWindows()"
   ]
  },
  {
   "cell_type": "code",
   "execution_count": null,
   "id": "ff8e2366",
   "metadata": {},
   "outputs": [],
   "source": []
  }
 ],
 "metadata": {
  "kernelspec": {
   "display_name": "Python 3",
   "language": "python",
   "name": "python3"
  },
  "language_info": {
   "codemirror_mode": {
    "name": "ipython",
    "version": 3
   },
   "file_extension": ".py",
   "mimetype": "text/x-python",
   "name": "python",
   "nbconvert_exporter": "python",
   "pygments_lexer": "ipython3",
   "version": "3.8.8"
  }
 },
 "nbformat": 4,
 "nbformat_minor": 5
}
