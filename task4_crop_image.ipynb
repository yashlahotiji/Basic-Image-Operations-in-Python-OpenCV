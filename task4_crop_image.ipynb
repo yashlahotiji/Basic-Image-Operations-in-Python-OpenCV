{
 "cells": [
  {
   "cell_type": "code",
   "execution_count": 10,
   "id": "b502f3f1",
   "metadata": {},
   "outputs": [
    {
     "data": {
      "text/plain": [
       "-1"
      ]
     },
     "execution_count": 10,
     "metadata": {},
     "output_type": "execute_result"
    }
   ],
   "source": [
    "import cv2\n",
    "pic1 = cv2.imread('myimg1.jpg')\n",
    "pic2 = cv2.imread('myimg2.jpg')\n",
    "pic3 = cv2.imread('myimg1.jpg')#creating a copy of the image so that we can have our original image as it is with us\n",
    "pic4 = cv2.imread('myimg2.jpg')#creating a copy of the image so that we can have our original image as it is with us\n",
    "pic1.shape #to know the shape of the image\n",
    "pic2.shape #to know the shape of the image\n",
    "crop_pic1 = pic1[10:50, 150:200] #storing crop part of pic 1 in crop_pic1\n",
    "crop_pic2 = pic2[10:50, 150:200] #storing crop part of pic 2 in crop_pic2\n",
    "cv2.imshow('Cropped Pic 1' , crop_pic1)\n",
    "cv2.imshow('Cropped Pic 2' , crop_pic2)\n",
    "pic3[10:50,150:200] = crop_pic2 #adding cropped part of pic 2 in pic 1\n",
    "pic4[10:50,150:200] = crop_pic1 #adding cropped part of pic 1 in pic 2\n",
    "cv2.imshow('Original Pic1',pic1) #displaying original pic 1\n",
    "cv2.imshow('Original Pic2',pic2) #displaying original pic 2\n",
    "cv2.imshow('Updated Pic 1' , pic3) #displaying updated pic 1\n",
    "cv2.imshow('Updated Pic 2' , pic4) #displaying updated pic 2\n",
    "cv2.waitKey(0)"
   ]
  },
  {
   "cell_type": "code",
   "execution_count": null,
   "id": "83f236ef",
   "metadata": {},
   "outputs": [],
   "source": []
  },
  {
   "cell_type": "code",
   "execution_count": null,
   "id": "8bc6ba8c",
   "metadata": {},
   "outputs": [],
   "source": []
  },
  {
   "cell_type": "code",
   "execution_count": null,
   "id": "b5e086ed",
   "metadata": {},
   "outputs": [],
   "source": []
  },
  {
   "cell_type": "code",
   "execution_count": null,
   "id": "6d8c0fde",
   "metadata": {},
   "outputs": [],
   "source": []
  },
  {
   "cell_type": "code",
   "execution_count": null,
   "id": "a88e7140",
   "metadata": {},
   "outputs": [],
   "source": []
  },
  {
   "cell_type": "raw",
   "id": "facec618",
   "metadata": {},
   "source": []
  },
  {
   "cell_type": "code",
   "execution_count": null,
   "id": "5742afe2",
   "metadata": {},
   "outputs": [],
   "source": []
  },
  {
   "cell_type": "code",
   "execution_count": null,
   "id": "01e7f9fa",
   "metadata": {},
   "outputs": [],
   "source": []
  },
  {
   "cell_type": "code",
   "execution_count": null,
   "id": "ea0c7477",
   "metadata": {},
   "outputs": [],
   "source": []
  }
 ],
 "metadata": {
  "kernelspec": {
   "display_name": "Python 3",
   "language": "python",
   "name": "python3"
  },
  "language_info": {
   "codemirror_mode": {
    "name": "ipython",
    "version": 3
   },
   "file_extension": ".py",
   "mimetype": "text/x-python",
   "name": "python",
   "nbconvert_exporter": "python",
   "pygments_lexer": "ipython3",
   "version": "3.8.8"
  }
 },
 "nbformat": 4,
 "nbformat_minor": 5
}
